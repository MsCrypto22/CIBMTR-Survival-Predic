{
 "cells": [
  {
   "cell_type": "code",
   "execution_count": 11,
   "metadata": {},
   "outputs": [
    {
     "ename": "ModuleNotFoundError",
     "evalue": "No module named 'sksurv'",
     "output_type": "error",
     "traceback": [
      "\u001b[0;31m---------------------------------------------------------------------------\u001b[0m",
      "\u001b[0;31mModuleNotFoundError\u001b[0m                       Traceback (most recent call last)",
      "Cell \u001b[0;32mIn[11], line 5\u001b[0m\n\u001b[1;32m      3\u001b[0m \u001b[39mfrom\u001b[39;00m \u001b[39msklearn\u001b[39;00m\u001b[39m.\u001b[39;00m\u001b[39mmodel_selection\u001b[39;00m \u001b[39mimport\u001b[39;00m train_test_split\n\u001b[1;32m      4\u001b[0m \u001b[39mimport\u001b[39;00m \u001b[39mxgboost\u001b[39;00m \u001b[39mas\u001b[39;00m \u001b[39mxgb\u001b[39;00m\n\u001b[0;32m----> 5\u001b[0m \u001b[39mfrom\u001b[39;00m \u001b[39msksurv\u001b[39;00m\u001b[39m.\u001b[39;00m\u001b[39mmetrics\u001b[39;00m \u001b[39mimport\u001b[39;00m concordance_index_censored\n\u001b[1;32m      7\u001b[0m \u001b[39m# Load datasets\u001b[39;00m\n\u001b[1;32m      8\u001b[0m train \u001b[39m=\u001b[39m pd\u001b[39m.\u001b[39mread_csv(\n\u001b[1;32m      9\u001b[0m     \u001b[39m\"\u001b[39m\u001b[39m/kaggle/input/preprocessed-train-and-test-data/preprocessed_train.csv\u001b[39m\u001b[39m\"\u001b[39m)\n",
      "\u001b[0;31mModuleNotFoundError\u001b[0m: No module named 'sksurv'"
     ]
    }
   ],
   "source": [
    "import numpy as np\n",
    "import pandas as pd\n",
    "from sklearn.model_selection import train_test_split\n",
    "import xgboost as xgb\n",
    "from sksurv.metrics import concordance_index_censored\n",
    "\n",
    "# Load datasets\n",
    "train = pd.read_csv(\n",
    "    \"/kaggle/input/preprocessed-train-and-test-data/preprocessed_train.csv\")\n",
    "test = pd.read_csv(\n",
    "    \"/kaggle/input/preprocessed-train-and-test-data/preprocessed_test.csv\")\n",
    "\n",
    "# Inspect data\n",
    "print(train.head())\n",
    "print(test.head())\n"
   ]
  },
  {
   "cell_type": "code",
   "execution_count": 7,
   "metadata": {},
   "outputs": [
    {
     "ename": "NameError",
     "evalue": "name 'train' is not defined",
     "output_type": "error",
     "traceback": [
      "\u001b[0;31m---------------------------------------------------------------------------\u001b[0m",
      "\u001b[0;31mNameError\u001b[0m                                 Traceback (most recent call last)",
      "Cell \u001b[0;32mIn[7], line 3\u001b[0m\n\u001b[1;32m      1\u001b[0m \u001b[39m# Example: Define complications based on a threshold of a medical metric\u001b[39;00m\n\u001b[1;32m      2\u001b[0m \u001b[39m# Replace 'medical_metric' with an appropriate column name\u001b[39;00m\n\u001b[0;32m----> 3\u001b[0m train[\u001b[39m'\u001b[39m\u001b[39mcomplications\u001b[39m\u001b[39m'\u001b[39m] \u001b[39m=\u001b[39m (train[\u001b[39m'\u001b[39m\u001b[39mmedical_metric\u001b[39m\u001b[39m'\u001b[39m] \u001b[39m>\u001b[39m threshold)\u001b[39m.\u001b[39mastype(\u001b[39mint\u001b[39m)\n\u001b[1;32m      5\u001b[0m \u001b[39m# Drop unnecessary columns\u001b[39;00m\n\u001b[1;32m      6\u001b[0m X \u001b[39m=\u001b[39m train\u001b[39m.\u001b[39mdrop(columns\u001b[39m=\u001b[39m[\u001b[39m'\u001b[39m\u001b[39mID\u001b[39m\u001b[39m'\u001b[39m, \u001b[39m'\u001b[39m\u001b[39mcomplications\u001b[39m\u001b[39m'\u001b[39m, \u001b[39m'\u001b[39m\u001b[39mefs\u001b[39m\u001b[39m'\u001b[39m, \u001b[39m'\u001b[39m\u001b[39mefs_time\u001b[39m\u001b[39m'\u001b[39m])\n",
      "\u001b[0;31mNameError\u001b[0m: name 'train' is not defined"
     ]
    }
   ],
   "source": [
    "# Example: Define complications based on a threshold of a medical metric\n",
    "# Replace 'medical_metric' with an appropriate column name\n",
    "train['complications'] = (train['medical_metric'] > threshold).astype(int)\n",
    "\n",
    "# Drop unnecessary columns\n",
    "X = train.drop(columns=['ID', 'complications', 'efs', 'efs_time'])\n",
    "y = train['complications']\n"
   ]
  },
  {
   "cell_type": "code",
   "execution_count": null,
   "metadata": {},
   "outputs": [],
   "source": [
    "# Handle missing values, encoding, and scaling\n",
    "from sklearn.preprocessing import StandardScaler\n",
    "\n",
    "# Scale numerical features\n",
    "scaler = StandardScaler()\n",
    "X_scaled = scaler.fit_transform(X)\n",
    "\n",
    "# Split into training and validation sets\n",
    "X_train, X_val, y_train, y_val = train_test_split(\n",
    "    X_scaled, y, test_size=0.2, random_state=42)\n"
   ]
  },
  {
   "cell_type": "code",
   "execution_count": null,
   "metadata": {},
   "outputs": [],
   "source": [
    "# Train XGBoost model\n",
    "xgb_model = xgb.XGBRegressor(\n",
    "    objective=\"reg:squarederror\", n_estimators=100, random_state=42)\n",
    "xgb_model.fit(X_train, y_train)\n",
    "\n",
    "# Predict risk scores\n",
    "y_pred = xgb_model.predict(X_val)\n"
   ]
  },
  {
   "cell_type": "code",
   "execution_count": null,
   "metadata": {},
   "outputs": [],
   "source": [
    "# Example metric: Concordance Index (adapt for binary complications prediction)\n",
    "c_index = concordance_index_censored(\n",
    "    event_indicator=y_val,  # Modify this depending on the metric\n",
    "    event_time=y_val.index,  # Replace with a relevant time-based metric\n",
    "    estimate=y_pred\n",
    ")\n",
    "\n",
    "print(f\"Concordance Index: {c_index[0]}\")\n"
   ]
  },
  {
   "cell_type": "code",
   "execution_count": null,
   "metadata": {},
   "outputs": [],
   "source": [
    "# Preprocess test data\n",
    "X_test = test.drop(columns=['ID'])\n",
    "X_test_scaled = scaler.transform(X_test)\n",
    "\n",
    "# Predict complications risk scores\n",
    "test_predictions = xgb_model.predict(X_test_scaled)\n",
    "\n",
    "# Prepare submission file\n",
    "submission = pd.DataFrame({'ID': test['ID'], 'prediction': test_predictions})\n",
    "submission.to_csv(\"submission.csv\", index=False)\n",
    "print(\"Submission file saved as submission.csv\")\n"
   ]
  }
 ],
 "metadata": {
  "kernelspec": {
   "display_name": "Python 3",
   "language": "python",
   "name": "python3"
  },
  "language_info": {
   "codemirror_mode": {
    "name": "ipython",
    "version": 3
   },
   "file_extension": ".py",
   "mimetype": "text/x-python",
   "name": "python",
   "nbconvert_exporter": "python",
   "pygments_lexer": "ipython3",
   "version": "3.13.1"
  },
  "orig_nbformat": 4,
  "vscode": {
   "interpreter": {
    "hash": "aee8b7b246df8f9039afb4144a1f6fd8d2ca17a180786b69acc140d282b71a49"
   }
  }
 },
 "nbformat": 4,
 "nbformat_minor": 2
}

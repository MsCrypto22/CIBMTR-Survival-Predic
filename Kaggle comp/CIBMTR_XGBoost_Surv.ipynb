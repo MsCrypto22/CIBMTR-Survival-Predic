{
 "cells": [
  {
   "cell_type": "code",
   "execution_count": 10,
   "metadata": {},
   "outputs": [
    {
     "name": "stdout",
     "output_type": "stream",
     "text": [
      "         ID  dri_score  psych_disturb  cyto_score  diabetes  hla_match_c_high  \\\n",
      "0 -1.731991   1.024391      -0.383754         NaN -0.427212          0.488048   \n",
      "1 -1.731870  -0.562548      -0.383754         NaN -0.427212          0.488048   \n",
      "2 -1.731750   1.024391      -0.383754         NaN -0.427212          0.488048   \n",
      "3 -1.731630  -1.197324      -0.383754         NaN -0.427212          0.488048   \n",
      "4 -1.731510  -1.197324      -0.383754         NaN -0.427212          0.488048   \n",
      "\n",
      "   hla_high_res_8  tbi_status  arrhythmia  hla_low_res_6  ...  melphalan_dose  \\\n",
      "0        0.610215   -0.510911   -0.223156       0.649549  ...        0.580558   \n",
      "1        0.610215    2.829815   -0.223156       0.649549  ...        0.580558   \n",
      "2        0.610215   -0.510911   -0.223156       0.649549  ...        0.580558   \n",
      "3        0.610215   -0.510911   -0.223156       0.649549  ...        0.580558   \n",
      "4        0.610215   -0.510911   -0.223156       0.649549  ...       -1.722481   \n",
      "\n",
      "   hla_low_res_8   cardiac  hla_match_drb1_high  pulm_moderate  \\\n",
      "0       0.635255 -0.244943             0.583426      -0.478951   \n",
      "1       0.635255 -0.244943             0.583426       2.108031   \n",
      "2       0.635255 -0.244943             0.583426      -0.478951   \n",
      "3       0.635255 -0.244943             0.583426      -0.478951   \n",
      "4       0.635255 -0.244943             0.583426      -0.478951   \n",
      "\n",
      "   hla_low_res_10       efs  efs_time  hla_cyto_interaction  donor_age_bin  \n",
      "0        0.617168 -1.081959  0.770921                   NaN       0.403793  \n",
      "1        0.617168  0.924249 -0.748637                   NaN       1.716202  \n",
      "2        0.617168 -1.081959 -0.138902                   NaN       0.403793  \n",
      "3        0.617168 -1.081959  3.190060                   NaN      -0.908615  \n",
      "4        0.617168 -1.081959 -0.282858                   NaN       0.403793  \n",
      "\n",
      "[5 rows x 62 columns]\n",
      "        ID  dri_score  psych_disturb  cyto_score      diabetes  \\\n",
      "0  28800.0        7.0  -1.092953e-16         NaN  3.552714e-17   \n",
      "1  28801.0        2.0  -1.092953e-16         NaN  3.552714e-17   \n",
      "2  28802.0        7.0  -1.092953e-16         NaN  3.552714e-17   \n",
      "\n",
      "   hla_match_c_high  hla_high_res_8    tbi_status    arrhythmia  \\\n",
      "0               2.0             8.0 -2.467162e-18 -5.427757e-18   \n",
      "1               2.0             8.0  6.000000e+00 -5.427757e-18   \n",
      "2               2.0             8.0 -2.467162e-18 -5.427757e-18   \n",
      "\n",
      "   hla_low_res_6  ...  tce_div_match  donor_related  melphalan_dose  \\\n",
      "0            6.0  ...            3.0            2.0             1.0   \n",
      "1            6.0  ...            3.0            1.0             1.0   \n",
      "2            6.0  ...            3.0            1.0             1.0   \n",
      "\n",
      "   hla_low_res_8       cardiac  hla_match_drb1_high  pulm_moderate  \\\n",
      "0            8.0  6.414622e-17                  2.0  -2.837237e-17   \n",
      "1            8.0  6.414622e-17                  2.0   2.000000e+00   \n",
      "2            8.0  6.414622e-17                  2.0  -2.837237e-17   \n",
      "\n",
      "   hla_low_res_10  hla_cyto_interaction  donor_age_bin  \n",
      "0            10.0                   NaN            2.0  \n",
      "1            10.0                   NaN            3.0  \n",
      "2            10.0                   NaN            2.0  \n",
      "\n",
      "[3 rows x 60 columns]\n"
     ]
    }
   ],
   "source": [
    "import numpy as np\n",
    "import pandas as pd\n",
    "from sklearn.model_selection import train_test_split\n",
    "from sklearn.metrics import mean_squared_error\n",
    "import xgboost as xgb\n",
    "\n",
    "# Load datasets\n",
    "train = pd.read_csv(\"/Users/micah/Desktop/preprocessed_train.csv\")\n",
    "test = pd.read_csv(\"/Users/micah/Desktop/preprocessed_test.csv\")\n",
    "\n",
    "# Inspect data\n",
    "print(train.head())\n",
    "print(test.head())\n"
   ]
  },
  {
   "cell_type": "code",
   "execution_count": 11,
   "metadata": {},
   "outputs": [],
   "source": [
    "# Prepare features and targets\n",
    "X = train.drop(columns=[\"ID\", \"efs\", \"efs_time\"])  # Features\n",
    "y = train[\"efs_time\"]  # Use survival time as target for simplicity\n",
    "\n",
    "# Split data into training and validation sets\n",
    "X_train, X_val, y_train, y_val = train_test_split(\n",
    "    X, y, test_size=0.2, random_state=42)\n"
   ]
  },
  {
   "cell_type": "code",
   "execution_count": 14,
   "metadata": {},
   "outputs": [],
   "source": [
    "import xgboost as xgb\n",
    "\n",
    "# Convert training data to DMatrix (XGBoost's native format)\n",
    "dtrain = xgb.DMatrix(data=X_train, label=y_train)\n",
    "\n",
    "# Define parameters\n",
    "params = {\n",
    "    \"objective\": \"reg:squarederror\",\n",
    "    \"random_state\": 42,\n",
    "}\n",
    "\n",
    "# Train the model\n",
    "xgb_model = xgb.train(\n",
    "    params=params,\n",
    "    dtrain=dtrain,\n",
    "    num_boost_round=100\n",
    ")\n",
    "\n",
    "# Convert validation data to DMatrix for prediction\n",
    "dval = xgb.DMatrix(data=X_val)\n",
    "y_pred = xgb_model.predict(dval)\n"
   ]
  },
  {
   "cell_type": "code",
   "execution_count": 18,
   "metadata": {},
   "outputs": [
    {
     "name": "stdout",
     "output_type": "stream",
     "text": [
      "Mean Squared Error: 0.8717234711462457\n"
     ]
    }
   ],
   "source": [
    "# Convert validation data to DMatrix format\n",
    "dval = xgb.DMatrix(data=X_val)\n",
    "\n",
    "# Predict on validation set\n",
    "y_pred = xgb_model.predict(dval)\n",
    "\n",
    "# Calculate Mean Squared Error\n",
    "mse = mean_squared_error(y_val, y_pred)\n",
    "print(f\"Mean Squared Error: {mse}\")\n"
   ]
  },
  {
   "cell_type": "code",
   "execution_count": 19,
   "metadata": {},
   "outputs": [
    {
     "name": "stdout",
     "output_type": "stream",
     "text": [
      "Submission file saved as submission.csv\n"
     ]
    }
   ],
   "source": [
    "# Convert the test data to DMatrix format\n",
    "dtest = xgb.DMatrix(data=test.drop(columns=[\"ID\"]))\n",
    "\n",
    "# Generate predictions for the test dataset\n",
    "test_predictions = xgb_model.predict(dtest)\n",
    "\n",
    "# Create a DataFrame for submission\n",
    "submission = pd.DataFrame({\"ID\": test[\"ID\"], \"prediction\": test_predictions})\n",
    "\n",
    "# Save the submission file\n",
    "submission.to_csv(\"submission.csv\", index=False)\n",
    "print(\"Submission file saved as submission.csv\")\n"
   ]
  },
  {
   "cell_type": "code",
   "execution_count": 22,
   "metadata": {},
   "outputs": [
    {
     "name": "stdout",
     "output_type": "stream",
     "text": [
      "R^2 Score: 0.1397905551345795\n"
     ]
    }
   ],
   "source": [
    "from sklearn.metrics import r2_score\n",
    "\n",
    "# Calculate R^2 score as a temporary metric\n",
    "r2 = r2_score(y_val, y_pred)\n",
    "print(f\"R^2 Score: {r2}\")\n"
   ]
  }
 ],
 "metadata": {
  "kernelspec": {
   "display_name": "Python 3",
   "language": "python",
   "name": "python3"
  },
  "language_info": {
   "codemirror_mode": {
    "name": "ipython",
    "version": 3
   },
   "file_extension": ".py",
   "mimetype": "text/x-python",
   "name": "python",
   "nbconvert_exporter": "python",
   "pygments_lexer": "ipython3",
   "version": "3.13.1"
  },
  "orig_nbformat": 4,
  "vscode": {
   "interpreter": {
    "hash": "aee8b7b246df8f9039afb4144a1f6fd8d2ca17a180786b69acc140d282b71a49"
   }
  }
 },
 "nbformat": 4,
 "nbformat_minor": 2
}
